{
 "cells": [
  {
   "cell_type": "markdown",
   "id": "730db46e-a27b-4467-a69a-c8660a6c4956",
   "metadata": {},
   "source": [
    "Alphabet Soup Problem"
   ]
  },
  {
   "cell_type": "code",
   "execution_count": 2,
   "id": "746da532-0c22-4757-843d-3386ace026ed",
   "metadata": {},
   "outputs": [
    {
     "name": "stdout",
     "output_type": "stream",
     "text": [
      "ehllo\n",
      "acehkr\n",
      "acdeeehmn\n",
      "aaegrrv\n"
     ]
    }
   ],
   "source": [
    "def alphabet_soup(input): #defines function alphabet_soup\n",
    "    sorted_string = ''.join(sorted(input)) #sorts characters in string and joins them back together\n",
    "    return sorted_string #returns sorted string\n",
    "\n",
    "#calls function alphabet_soup and sorts the string inside\n",
    "print(alphabet_soup(\"hello\"))\n",
    "print(alphabet_soup(\"hacker\"))\n",
    "print(alphabet_soup(\"madecheen\"))\n",
    "print(alphabet_soup(\"vergara\"))"
   ]
  },
  {
   "cell_type": "markdown",
   "id": "90e69023-e835-4d01-a30d-1a818b21c182",
   "metadata": {},
   "source": [
    "Emoticon Problem"
   ]
  },
  {
   "cell_type": "code",
   "execution_count": 4,
   "id": "fd430f64-9022-4a43-98cf-059d82b5dc08",
   "metadata": {},
   "outputs": [
    {
     "name": "stdout",
     "output_type": "stream",
     "text": [
      "Make me :)\n",
      "I am >:(\n",
      "Do not be :(( anymore\n",
      "You have a nice :D\n"
     ]
    }
   ],
   "source": [
    "def emotify(input): #defines function emotify\n",
    "    emoticon_dict = {\"smile\": \":)\", \"grin\": \":D\", \"sad\": \":((\", \"mad\": \">:(\"} #dictionary for string and its corresponding emoticon\n",
    "\n",
    "    sentence = input.split() #split the words in the given sentence\n",
    "    emotified = ' '.join(emoticon_dict.get(word, word) for word in sentence) #copies word for word the given sentence, replaces keywords in dictionary with its corresponding emoticon, and joins them together\n",
    "\n",
    "    return emotified #returns output\n",
    "\n",
    "#calls function emotify and prints them\n",
    "print(emotify(\"Make me smile\"))\n",
    "print(emotify(\"I am mad\"))\n",
    "print(emotify(\"Do not be sad anymore\"))\n",
    "print(emotify(\"You have a nice grin\"))"
   ]
  },
  {
   "cell_type": "markdown",
   "id": "dd4547d6-f6d0-4ade-a925-0541fe0d7e27",
   "metadata": {},
   "source": [
    "Unpacking List Problem"
   ]
  },
  {
   "cell_type": "code",
   "execution_count": 12,
   "id": "2a81cc09-6673-4a51-999c-cfda0dc58dcf",
   "metadata": {},
   "outputs": [
    {
     "name": "stdout",
     "output_type": "stream",
     "text": [
      "first: 1   middle: [2, 3, 4, 5]   last: 6\n"
     ]
    }
   ],
   "source": [
    "writeyourcodehere = [1, 2, 3, 4, 5, 6] #list of the numbers to be unpacked\n",
    "first, *middle, last = writeyourcodehere #using function unpacking\n",
    "\n",
    "#prints output\n",
    "print(\"first:\", first, \"  middle:\", middle, \"  last:\", last)"
   ]
  },
  {
   "cell_type": "code",
   "execution_count": 10,
   "id": "ef129aa9-18e9-4efa-99ae-adbb7686320e",
   "metadata": {},
   "outputs": [
    {
     "name": "stdout",
     "output_type": "stream",
     "text": [
      "first: 4   middle: [5, 2, 3, 5, 7]   last: 8\n"
     ]
    }
   ],
   "source": [
    "#another example\n",
    "writeyourcodehere = [4, 5, 2, 3, 5, 7, 8]\n",
    "first, *middle, last = writeyourcodehere\n",
    "\n",
    "print(\"first:\", first, \"  middle:\", middle, \"  last:\", last)"
   ]
  },
  {
   "cell_type": "code",
   "execution_count": null,
   "id": "7a891650-9cf6-4f80-ac1e-73a6e759dded",
   "metadata": {},
   "outputs": [],
   "source": []
  }
 ],
 "metadata": {
  "kernelspec": {
   "display_name": "Python 3 (ipykernel)",
   "language": "python",
   "name": "python3"
  },
  "language_info": {
   "codemirror_mode": {
    "name": "ipython",
    "version": 3
   },
   "file_extension": ".py",
   "mimetype": "text/x-python",
   "name": "python",
   "nbconvert_exporter": "python",
   "pygments_lexer": "ipython3",
   "version": "3.12.4"
  }
 },
 "nbformat": 4,
 "nbformat_minor": 5
}
